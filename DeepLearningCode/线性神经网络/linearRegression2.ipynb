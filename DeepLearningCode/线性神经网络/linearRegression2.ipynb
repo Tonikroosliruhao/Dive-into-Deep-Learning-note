{
 "cells": [
  {
   "cell_type": "markdown",
   "source": [
    "## 简洁版线性回归"
   ],
   "metadata": {
    "collapsed": false
   },
   "id": "16be0765d5bf1062"
  },
  {
   "cell_type": "code",
   "execution_count": 2,
   "outputs": [],
   "source": [
    "import numpy as np\n",
    "import torch\n",
    "from torch.utils import data\n",
    "from d2l import torch as d2l\n",
    "\n",
    "true_w = torch.tensor([2, -3.4])\n",
    "true_b = 4.2\n",
    "features, labels = d2l.synthetic_data(true_w, true_b, 1000)"
   ],
   "metadata": {
    "collapsed": false
   },
   "id": "7a0d7d39"
  },
  {
   "cell_type": "code",
   "execution_count": 3,
   "id": "f58887fe",
   "metadata": {},
   "outputs": [],
   "source": [
    "#构造一个PyTorch数据迭代器\n",
    "def load_array(data_arrays, batch_size, is_train=True):\n",
    "    dataset = data.TensorDataset(*data_arrays)\n",
    "    return data.DataLoader(dataset, batch_size, shuffle=is_train)\n",
    "\n",
    "batch_size = 10\n",
    "data_iter = load_array((features, labels), batch_size)"
   ]
  },
  {
   "cell_type": "code",
   "execution_count": 4,
   "id": "0f716fe7",
   "metadata": {},
   "outputs": [
    {
     "data": {
      "text/plain": [
       "[tensor([[-0.1487, -0.3107],\n",
       "         [ 0.5995, -0.0799],\n",
       "         [ 1.3702,  1.8247],\n",
       "         [ 0.1293,  0.8640],\n",
       "         [ 0.0068,  1.2051],\n",
       "         [-1.2569,  1.9410],\n",
       "         [-0.7552,  0.7640],\n",
       "         [ 1.1895,  1.4208],\n",
       "         [ 0.2840, -0.3512],\n",
       "         [ 0.5058,  1.0144]]),\n",
       " tensor([[ 4.9498],\n",
       "         [ 5.6764],\n",
       "         [ 0.7362],\n",
       "         [ 1.5192],\n",
       "         [ 0.1143],\n",
       "         [-4.9103],\n",
       "         [ 0.1011],\n",
       "         [ 1.7301],\n",
       "         [ 5.9716],\n",
       "         [ 1.7819]])]"
      ]
     },
     "execution_count": 4,
     "metadata": {},
     "output_type": "execute_result"
    }
   ],
   "source": [
    "next(iter(data_iter))"
   ]
  },
  {
   "cell_type": "code",
   "execution_count": 5,
   "id": "3afb0a05",
   "metadata": {},
   "outputs": [
    {
     "data": {
      "text/plain": [
       "tensor([0.])"
      ]
     },
     "execution_count": 5,
     "metadata": {},
     "output_type": "execute_result"
    }
   ],
   "source": [
    "# 模型定义与初始化\n",
    "from torch import nn\n",
    "\n",
    "net = nn.Sequential(nn.Linear(2, 1))\n",
    "net[0].weight.data.normal_(0, 0.01)\n",
    "net[0].bias.data.fill_(0)"
   ]
  },
  {
   "cell_type": "code",
   "execution_count": 6,
   "id": "d9f18b25",
   "metadata": {},
   "outputs": [],
   "source": [
    "#定义损失函数与优化算法\n",
    "loss = nn.MSELoss()\n",
    "trainer = torch.optim.SGD(net.parameters(), lr=0.03)"
   ]
  },
  {
   "cell_type": "code",
   "execution_count": 7,
   "id": "109285b2",
   "metadata": {},
   "outputs": [
    {
     "name": "stdout",
     "output_type": "stream",
     "text": [
      "epoch 1, loss 0.000233\n",
      "epoch 2, loss 0.000102\n",
      "epoch 3, loss 0.000102\n"
     ]
    }
   ],
   "source": [
    "# 训练\n",
    "num_epochs = 3\n",
    "for epoch in range(num_epochs):\n",
    "    for X, y in data_iter:\n",
    "        l = loss(net(X), y)\n",
    "        trainer.zero_grad()\n",
    "        l.backward()\n",
    "        trainer.step()\n",
    "    l = loss(net(features), labels)\n",
    "    print(f'epoch {epoch + 1}, loss {l:f}')"
   ]
  },
  {
   "cell_type": "code",
   "execution_count": 8,
   "id": "b576e700",
   "metadata": {},
   "outputs": [
    {
     "name": "stdout",
     "output_type": "stream",
     "text": [
      "w的估计误差:  tensor([-0.0001, -0.0013])\n",
      "b的估计误差:  tensor([0.0004])\n"
     ]
    }
   ],
   "source": [
    "w = net[0].weight.data\n",
    "print('w的估计误差: ', true_w - w.reshape(true_w.shape))\n",
    "b= net[0].bias.data\n",
    "print('b的估计误差: ',true_b - b)"
   ]
  }
 ],
 "metadata": {
  "kernelspec": {
   "display_name": "Python [conda env:DL] *",
   "language": "python",
   "name": "conda-env-DL-py"
  },
  "language_info": {
   "codemirror_mode": {
    "name": "ipython",
    "version": 3
   },
   "file_extension": ".py",
   "mimetype": "text/x-python",
   "name": "python",
   "nbconvert_exporter": "python",
   "pygments_lexer": "ipython3",
   "version": "3.7.16"
  }
 },
 "nbformat": 4,
 "nbformat_minor": 5
}

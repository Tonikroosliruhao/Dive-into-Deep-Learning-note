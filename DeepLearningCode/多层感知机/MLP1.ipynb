{
 "cells": [
  {
   "cell_type": "markdown",
   "source": [
    "## 手写MLP"
   ],
   "metadata": {
    "collapsed": false
   },
   "id": "8930eda8cf8e6c40"
  },
  {
   "cell_type": "code",
   "execution_count": 2,
   "outputs": [],
   "source": [
    "import torch\n",
    "from d2l import torch as d2l\n",
    "from tqdm import tqdm\n",
    "\n",
    "batch_size = 256\n",
    "train_iter , test_iter = d2l.load_data_fashion_mnist(batch_size)"
   ],
   "metadata": {
    "collapsed": false,
    "ExecuteTime": {
     "start_time": "2023-11-21T03:36:52.367599700Z"
    }
   },
   "id": "initial_id"
  },
  {
   "cell_type": "code",
   "execution_count": 3,
   "outputs": [],
   "source": [
    "# 初始化权重\n",
    "num_inputs, num_outputs, hidden_size = 784, 10, 256\n",
    "\n",
    "W1 = torch.normal(0, 0.01, size = (num_inputs,hidden_size), requires_grad=True)\n",
    "b1 = torch.zeros(hidden_size, requires_grad=True)\n",
    "\n",
    "W2 = torch.normal(0, 0.01, size = (hidden_size, num_outputs), requires_grad=True)\n",
    "b2 = torch.zeros(num_outputs, requires_grad=True)\n",
    "\n",
    "params = [W1, b1, W2, b2]"
   ],
   "metadata": {
    "collapsed": false,
    "ExecuteTime": {
     "end_time": "2023-11-21T03:36:56.493925200Z",
     "start_time": "2023-11-21T03:36:56.469663800Z"
    }
   },
   "id": "67f0e18f97fe1e52"
  },
  {
   "cell_type": "code",
   "execution_count": 4,
   "outputs": [],
   "source": [
    "def softmax(X):\n",
    "    X_exp = torch.exp(X)\n",
    "    partition = X_exp.sum(1, keepdim = True)\n",
    "    return X_exp / partition"
   ],
   "metadata": {
    "collapsed": false,
    "ExecuteTime": {
     "end_time": "2023-11-21T03:36:56.524216100Z",
     "start_time": "2023-11-21T03:36:56.493925200Z"
    }
   },
   "id": "d5111e0d9ef7ec60"
  },
  {
   "cell_type": "code",
   "execution_count": 5,
   "outputs": [],
   "source": [
    "# 定义多层感知机（此处为1输入层1隐藏层1输出层）\n",
    "def net(X):\n",
    "    H1 = ReLU(torch.matmul(X.reshape((-1, W1.shape[0])), W1) + b1)\n",
    "    H2 = ReLU(torch.matmul(H1,W2) + b2)\n",
    "    return softmax(H2)"
   ],
   "metadata": {
    "collapsed": false,
    "ExecuteTime": {
     "end_time": "2023-11-21T03:36:56.545415400Z",
     "start_time": "2023-11-21T03:36:56.513742400Z"
    }
   },
   "id": "c9e1c965dec78d1c"
  },
  {
   "cell_type": "code",
   "execution_count": 6,
   "outputs": [],
   "source": [
    "def cross_entropy(y_hat, y):\n",
    "    return -torch.log(y_hat[range(len(y_hat)) , y])"
   ],
   "metadata": {
    "collapsed": false,
    "ExecuteTime": {
     "end_time": "2023-11-21T03:36:56.546411500Z",
     "start_time": "2023-11-21T03:36:56.529540600Z"
    }
   },
   "id": "a74b2e225e9af9c0"
  },
  {
   "cell_type": "code",
   "execution_count": 7,
   "outputs": [],
   "source": [
    "def ReLU(X):\n",
    "    a = torch.zeros_like(X)\n",
    "    return torch.max(X, a)"
   ],
   "metadata": {
    "collapsed": false,
    "ExecuteTime": {
     "end_time": "2023-11-21T03:36:56.572831800Z",
     "start_time": "2023-11-21T03:36:56.545415400Z"
    }
   },
   "id": "c0d1d2e9005d4ee8"
  },
  {
   "cell_type": "code",
   "execution_count": 8,
   "outputs": [],
   "source": [
    "def SGD(params, lr, batch_size):\n",
    "    with torch.no_grad():\n",
    "        for param in params:\n",
    "            param -= lr * param.grad / batch_size\n",
    "            param.grad.zero_()"
   ],
   "metadata": {
    "collapsed": false,
    "ExecuteTime": {
     "end_time": "2023-11-21T03:36:57.115634200Z",
     "start_time": "2023-11-21T03:36:57.073164200Z"
    }
   },
   "id": "f096916ae1c875a8"
  },
  {
   "cell_type": "code",
   "execution_count": 9,
   "outputs": [],
   "source": [
    "# 返回预测正确的数量 （因为最后一个batch数量未定，所以先不除以batch_size）\n",
    "def accuracy(y_hat, y):\n",
    "    y_hat = y_hat.argmax(axis = 1)\n",
    "    cmp = (y_hat.type(y.dtype) == y)\n",
    "    return cmp.sum()"
   ],
   "metadata": {
    "collapsed": false,
    "ExecuteTime": {
     "end_time": "2023-11-21T03:36:57.654974400Z",
     "start_time": "2023-11-21T03:36:57.643441100Z"
    }
   },
   "id": "92a68f47436160bc"
  },
  {
   "cell_type": "code",
   "execution_count": 10,
   "outputs": [],
   "source": [
    "# 训练过程\n",
    "def train_epoch(net, train_iter, loss, updater):\n",
    "    sum_loss = 0\n",
    "    num_right = 0\n",
    "    tot_num = 0\n",
    "    # 每次取一个batch\n",
    "    for X, y in train_iter:\n",
    "        y_hat = net(X)\n",
    "        l = loss(y_hat, y)\n",
    "        l.sum().backward()\n",
    "        updater(params, lr, X.shape[0])\n",
    "        # 累加loss和预测准确数\n",
    "        sum_loss += float(l.sum())\n",
    "        num_right += accuracy(y_hat, y)\n",
    "        tot_num += len(X)\n",
    "    # 返回每个batch的准确率，以及每个样本的平均loss\n",
    "    return sum_loss / tot_num, num_right / tot_num"
   ],
   "metadata": {
    "collapsed": false,
    "ExecuteTime": {
     "end_time": "2023-11-21T03:36:58.237096200Z",
     "start_time": "2023-11-21T03:36:58.224712700Z"
    }
   },
   "id": "e4f6d119b889f61d"
  },
  {
   "cell_type": "code",
   "execution_count": 13,
   "outputs": [],
   "source": [
    "def train(net, train_iter, loss, updater):\n",
    "    for epoch in range(num_epochs):\n",
    "        train_loss, train_acc = train_epoch(net,train_iter,loss,updater)\n",
    "        print(f'Epoch {epoch+1} / {num_epochs}: '\n",
    "              f'train loss : {train_loss}, train_accuracy: {train_acc}')"
   ],
   "metadata": {
    "collapsed": false,
    "ExecuteTime": {
     "end_time": "2023-11-21T03:40:10.725386700Z",
     "start_time": "2023-11-21T03:40:10.682491200Z"
    }
   },
   "id": "ebe9a990d3448bd9"
  },
  {
   "cell_type": "code",
   "execution_count": 14,
   "outputs": [
    {
     "name": "stdout",
     "output_type": "stream",
     "text": [
      "Epoch 1 / 10: train loss : 0.5895285572687785, train_accuracy: 0.8011833429336548\n",
      "Epoch 2 / 10: train loss : 0.5822662670135498, train_accuracy: 0.8023666739463806\n",
      "Epoch 3 / 10: train loss : 0.5763010401407878, train_accuracy: 0.8046500086784363\n",
      "Epoch 4 / 10: train loss : 0.5679944796244304, train_accuracy: 0.8069833517074585\n",
      "Epoch 5 / 10: train loss : 0.5640604965845744, train_accuracy: 0.8087833523750305\n",
      "Epoch 6 / 10: train loss : 0.5588677888234457, train_accuracy: 0.8093500137329102\n",
      "Epoch 7 / 10: train loss : 0.5534980734507243, train_accuracy: 0.8118833303451538\n",
      "Epoch 8 / 10: train loss : 0.548101589012146, train_accuracy: 0.8130833506584167\n",
      "Epoch 9 / 10: train loss : 0.5432570129394532, train_accuracy: 0.8140333294868469\n",
      "Epoch 10 / 10: train loss : 0.5387493696848551, train_accuracy: 0.8149166703224182\n"
     ]
    }
   ],
   "source": [
    "num_epochs = 10\n",
    "lr = 0.1\n",
    "\n",
    "train(net, train_iter, cross_entropy, SGD)"
   ],
   "metadata": {
    "collapsed": false,
    "ExecuteTime": {
     "end_time": "2023-11-21T03:41:20.016618600Z",
     "start_time": "2023-11-21T03:40:11.324829600Z"
    }
   },
   "id": "57927dcacce5cfd4"
  },
  {
   "cell_type": "code",
   "execution_count": 15,
   "outputs": [],
   "source": [
    "def predict_ch3(net, test_iter, n=6): \n",
    "    for X, y in test_iter:\n",
    "        break\n",
    "    trues = d2l.get_fashion_mnist_labels(y)\n",
    "    preds = d2l.get_fashion_mnist_labels(net(X).argmax(axis=1))\n",
    "    titles = [true +'\\n' + pred for true, pred in zip(trues, preds)]\n",
    "    d2l.show_images(\n",
    "        X[0:n].reshape((n, 28, 28)), 1, n, titles=titles[0:n])"
   ],
   "metadata": {
    "collapsed": false,
    "ExecuteTime": {
     "end_time": "2023-11-21T03:44:01.078313800Z",
     "start_time": "2023-11-21T03:44:01.032219300Z"
    }
   },
   "id": "e8d3390b44151260"
  },
  {
   "cell_type": "code",
   "execution_count": 16,
   "outputs": [
    {
     "data": {
      "text/plain": "<Figure size 900x150 with 6 Axes>",
      "image/png": "[encoded data removed]"
     },
     "metadata": {},
     "output_type": "display_data"
    }
   ],
   "source": [
    "predict_ch3(net, test_iter)"
   ],
   "metadata": {
    "collapsed": false,
    "ExecuteTime": {
     "end_time": "2023-11-21T03:44:15.314271Z",
     "start_time": "2023-11-21T03:44:12.347298600Z"
    }
   },
   "id": "554de483c24525cb"
  }
 ],
 "metadata": {
  "kernelspec": {
   "display_name": "Python 3",
   "language": "python",
   "name": "python3"
  },
  "language_info": {
   "codemirror_mode": {
    "name": "ipython",
    "version": 2
   },
   "file_extension": ".py",
   "mimetype": "text/x-python",
   "name": "python",
   "nbconvert_exporter": "python",
   "pygments_lexer": "ipython2",
   "version": "2.7.6"
  }
 },
 "nbformat": 4,
 "nbformat_minor": 5
}

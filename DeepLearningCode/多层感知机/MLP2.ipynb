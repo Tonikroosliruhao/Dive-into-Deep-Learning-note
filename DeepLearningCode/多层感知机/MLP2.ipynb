{
 "cells": [
  {
   "cell_type": "markdown",
   "source": [
    "## 简洁版MLP"
   ],
   "metadata": {
    "collapsed": false
   },
   "id": "d7166be79992ae7b"
  },
  {
   "cell_type": "code",
   "execution_count": 1,
   "outputs": [],
   "source": [
    "import torch\n",
    "from torch import nn\n",
    "from d2l import torch as d2l\n",
    "# from torchmetrics import Accuracy"
   ],
   "metadata": {
    "collapsed": false,
    "ExecuteTime": {
     "start_time": "2023-11-21T08:01:32.726269200Z"
    }
   },
   "id": "initial_id"
  },
  {
   "cell_type": "code",
   "execution_count": 15,
   "outputs": [],
   "source": [
    "num_inputs, num_outputs, num_hiddens = 784, 10, 256\n",
    "\n",
    "net = nn.Sequential(nn.Flatten(),\n",
    "                    nn.Linear(num_inputs, num_hiddens),\n",
    "                    nn.ReLU(),\n",
    "                    nn.Linear(num_hiddens, num_outputs))\n",
    "\n",
    "# accuracy = Accuracy(num_classes=10, task='multiclass')"
   ],
   "metadata": {
    "collapsed": false,
    "ExecuteTime": {
     "end_time": "2023-11-21T08:08:00.070574800Z",
     "start_time": "2023-11-21T08:08:00.031233900Z"
    }
   },
   "id": "6c7ad708d2522d0"
  },
  {
   "cell_type": "code",
   "execution_count": 16,
   "outputs": [
    {
     "data": {
      "text/plain": "Sequential(\n  (0): Flatten(start_dim=1, end_dim=-1)\n  (1): Linear(in_features=784, out_features=256, bias=True)\n  (2): ReLU()\n  (3): Linear(in_features=256, out_features=10, bias=True)\n)"
     },
     "execution_count": 16,
     "metadata": {},
     "output_type": "execute_result"
    }
   ],
   "source": [
    "def init_weights(m):\n",
    "    if type(m) == nn.Linear:\n",
    "        nn.init.normal_(m.weight, std=0.01)\n",
    "\n",
    "net.apply(init_weights)"
   ],
   "metadata": {
    "collapsed": false,
    "ExecuteTime": {
     "end_time": "2023-11-21T08:08:00.489115600Z",
     "start_time": "2023-11-21T08:08:00.467444700Z"
    }
   },
   "id": "939c1254a5b16179"
  },
  {
   "cell_type": "code",
   "execution_count": 17,
   "outputs": [],
   "source": [
    "def accuracy(y_hat, y):\n",
    "    y_hat = y_hat.argmax(axis = 1)\n",
    "    cmp = (y_hat.type(y.dtype) == y)\n",
    "    return cmp.sum()"
   ],
   "metadata": {
    "collapsed": false,
    "ExecuteTime": {
     "end_time": "2023-11-21T08:08:00.998875400Z",
     "start_time": "2023-11-21T08:08:00.981497400Z"
    }
   },
   "id": "bf79906df9e4e8ea"
  },
  {
   "cell_type": "code",
   "execution_count": 18,
   "outputs": [],
   "source": [
    "def train_epoch(net, train_iter, loss, updater):\n",
    "    sum_loss = 0\n",
    "    num_right = 0\n",
    "    tot_num = 0\n",
    "    \n",
    "    net.train()\n",
    "    for X, y in train_iter:\n",
    "        y_hat = net(X)\n",
    "        l = loss(y_hat, y)\n",
    "        updater.zero_grad()\n",
    "        l.backward()\n",
    "        updater.step()\n",
    "        sum_loss += float(l)\n",
    "        num_right += accuracy(y_hat, y)\n",
    "        tot_num += len(X)\n",
    "    return sum_loss / tot_num, num_right / tot_num"
   ],
   "metadata": {
    "collapsed": false,
    "ExecuteTime": {
     "end_time": "2023-11-21T08:08:01.469891Z",
     "start_time": "2023-11-21T08:08:01.442264Z"
    }
   },
   "id": "66f3b4e96a422bfa"
  },
  {
   "cell_type": "code",
   "execution_count": 19,
   "outputs": [],
   "source": [
    "def train(net, train_iter, loss, updater):\n",
    "    for epoch in range(num_epochs):\n",
    "        train_loss, train_acc = train_epoch(net,train_iter,loss,updater)\n",
    "        print(f'Epoch {epoch+1} / {num_epochs}: '\n",
    "              f'train loss : {train_loss}, train_accuracy: {train_acc}')"
   ],
   "metadata": {
    "collapsed": false,
    "ExecuteTime": {
     "end_time": "2023-11-21T08:08:01.933420Z",
     "start_time": "2023-11-21T08:08:01.892866800Z"
    }
   },
   "id": "5c1c2fee7831ba14"
  },
  {
   "cell_type": "code",
   "execution_count": 20,
   "outputs": [],
   "source": [
    "batch_size, lr, num_epochs = 256, 0.1, 10\n",
    "loss = nn.CrossEntropyLoss()\n",
    "updater = torch.optim.SGD(net.parameters(), lr=lr)"
   ],
   "metadata": {
    "collapsed": false,
    "ExecuteTime": {
     "end_time": "2023-11-21T08:08:02.396810400Z",
     "start_time": "2023-11-21T08:08:02.382908Z"
    }
   },
   "id": "b70c2f2baf6d2103"
  },
  {
   "cell_type": "code",
   "execution_count": 21,
   "outputs": [
    {
     "name": "stdout",
     "output_type": "stream",
     "text": [
      "Epoch 1 / 10: train loss : 0.00408826510310173, train_accuracy: 0.6391000151634216\n",
      "Epoch 2 / 10: train loss : 0.0023443221266071, train_accuracy: 0.7902833223342896\n",
      "Epoch 3 / 10: train loss : 0.0020236638739705086, train_accuracy: 0.8183000087738037\n",
      "Epoch 4 / 10: train loss : 0.0018800207530458768, train_accuracy: 0.8320666551589966\n",
      "Epoch 5 / 10: train loss : 0.0017729996467630068, train_accuracy: 0.8408833146095276\n",
      "Epoch 6 / 10: train loss : 0.0016980987767378488, train_accuracy: 0.846750020980835\n",
      "Epoch 7 / 10: train loss : 0.0016284942229588826, train_accuracy: 0.8541333079338074\n",
      "Epoch 8 / 10: train loss : 0.0015747995259861151, train_accuracy: 0.857366681098938\n",
      "Epoch 9 / 10: train loss : 0.0015344713012377421, train_accuracy: 0.8618166446685791\n",
      "Epoch 10 / 10: train loss : 0.0014896476204196612, train_accuracy: 0.8654999732971191\n"
     ]
    }
   ],
   "source": [
    "train_iter, test_iter = d2l.load_data_fashion_mnist(batch_size)\n",
    "train(net, train_iter, loss, updater)"
   ],
   "metadata": {
    "collapsed": false,
    "ExecuteTime": {
     "end_time": "2023-11-21T08:09:16.302080400Z",
     "start_time": "2023-11-21T08:08:03.002869400Z"
    }
   },
   "id": "40d6cf70a5d150d"
  },
  {
   "cell_type": "code",
   "execution_count": 10,
   "outputs": [],
   "source": [
    "def predict_ch3(net, test_iter, n=6): \n",
    "    for X, y in test_iter:\n",
    "        break\n",
    "    trues = d2l.get_fashion_mnist_labels(y)\n",
    "    preds = d2l.get_fashion_mnist_labels(net(X).argmax(axis=1))\n",
    "    titles = [true +'\\n' + pred for true, pred in zip(trues, preds)]\n",
    "    d2l.show_images(\n",
    "        X[0:n].reshape((n, 28, 28)), 1, n, titles=titles[0:n])"
   ],
   "metadata": {
    "collapsed": false,
    "ExecuteTime": {
     "end_time": "2023-11-21T08:05:59.718625500Z",
     "start_time": "2023-11-21T08:05:59.688975300Z"
    }
   },
   "id": "1b11aa9ffe68a430"
  },
  {
   "cell_type": "code",
   "execution_count": 11,
   "outputs": [
    {
     "data": {
      "text/plain": "<Figure size 900x150 with 6 Axes>",
      "image/png": "[encoded data removed]"
     },
     "metadata": {},
     "output_type": "display_data"
    }
   ],
   "source": [
    "predict_ch3(net, test_iter)"
   ],
   "metadata": {
    "collapsed": false,
    "ExecuteTime": {
     "end_time": "2023-11-21T08:06:04.477345Z",
     "start_time": "2023-11-21T08:06:01.361284Z"
    }
   },
   "id": "4b757d2f22696a93"
  }
 ],
 "metadata": {
  "kernelspec": {
   "display_name": "Python 3",
   "language": "python",
   "name": "python3"
  },
  "language_info": {
   "codemirror_mode": {
    "name": "ipython",
    "version": 2
   },
   "file_extension": ".py",
   "mimetype": "text/x-python",
   "name": "python",
   "nbconvert_exporter": "python",
   "pygments_lexer": "ipython2",
   "version": "2.7.6"
  }
 },
 "nbformat": 4,
 "nbformat_minor": 5
}
